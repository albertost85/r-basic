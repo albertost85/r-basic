{
 "cells": [
  {
   "cell_type": "markdown",
   "id": "985ecee3-188c-4a39-b593-ab688314c223",
   "metadata": {},
   "source": [
    "# Constantes en Python"
   ]
  },
  {
   "cell_type": "code",
   "execution_count": 4,
   "id": "812a7e94-7e7b-4331-ac5f-91be26fc6fe7",
   "metadata": {},
   "outputs": [
    {
     "data": {
      "text/plain": [
       "3.141592653589793"
      ]
     },
     "execution_count": 4,
     "metadata": {},
     "output_type": "execute_result"
    }
   ],
   "source": [
    "import math\n",
    "math.pi"
   ]
  },
  {
   "cell_type": "code",
   "execution_count": 5,
   "id": "67f21d1d-a131-4257-9bad-bc9216172f30",
   "metadata": {},
   "outputs": [
    {
     "data": {
      "text/plain": [
       "inf"
      ]
     },
     "execution_count": 5,
     "metadata": {},
     "output_type": "execute_result"
    }
   ],
   "source": [
    "math.inf"
   ]
  },
  {
   "cell_type": "code",
   "execution_count": 6,
   "id": "03ec04d9-5ce1-4d05-8d28-2da67d5d671f",
   "metadata": {},
   "outputs": [
    {
     "data": {
      "text/plain": [
       "inf"
      ]
     },
     "execution_count": 6,
     "metadata": {},
     "output_type": "execute_result"
    }
   ],
   "source": [
    "float('inf')"
   ]
  },
  {
   "cell_type": "code",
   "execution_count": 10,
   "id": "67d99b1c-1b73-4562-9f19-3482be38e0b9",
   "metadata": {},
   "outputs": [
    {
     "data": {
      "text/plain": [
       "nan"
      ]
     },
     "execution_count": 10,
     "metadata": {},
     "output_type": "execute_result"
    }
   ],
   "source": [
    "math.nan"
   ]
  },
  {
   "cell_type": "code",
   "execution_count": 13,
   "id": "87b301fb-7dbc-448f-b777-ba74f21cbbd2",
   "metadata": {},
   "outputs": [
    {
     "ename": "ValueError",
     "evalue": "math domain error",
     "output_type": "error",
     "traceback": [
      "\u001b[0;31m---------------------------------------------------------------------------\u001b[0m",
      "\u001b[0;31mValueError\u001b[0m                                Traceback (most recent call last)",
      "Cell \u001b[0;32mIn[13], line 1\u001b[0m\n\u001b[0;32m----> 1\u001b[0m math\u001b[38;5;241m.\u001b[39msqrt(\u001b[38;5;241m-\u001b[39m\u001b[38;5;241m1.0\u001b[39m)\n",
      "\u001b[0;31mValueError\u001b[0m: math domain error"
     ]
    }
   ],
   "source": [
    "math.sqrt(-1.0)"
   ]
  },
  {
   "cell_type": "code",
   "execution_count": 34,
   "id": "bb03a7ee-53cd-4dfb-a938-ee3ecc529a46",
   "metadata": {},
   "outputs": [
    {
     "data": {
      "text/plain": [
       "1.6549840276802644e+308"
      ]
     },
     "execution_count": 34,
     "metadata": {},
     "output_type": "execute_result"
    }
   ],
   "source": [
    "math.exp(709.7)"
   ]
  },
  {
   "cell_type": "markdown",
   "id": "a43f2e75-9487-4854-b46f-b4ca7f54b0f5",
   "metadata": {},
   "source": [
    "## Entrada y salida de datos\n",
    "Para mostrar información por pantalla, se utiliza la instrucción print(). Acepta strings, y también variables en cuyo caso imprimirá su valor. "
   ]
  },
  {
   "cell_type": "code",
   "execution_count": 1,
   "id": "77da89c0-977c-40ea-b26c-3b967cd765ab",
   "metadata": {},
   "outputs": [
    {
     "name": "stdout",
     "output_type": "stream",
     "text": [
      "7\n",
      "no se\n"
     ]
    }
   ],
   "source": [
    "x = 7\n",
    "print(7)\n",
    "print(\"no se\")"
   ]
  },
  {
   "cell_type": "markdown",
   "id": "dd114bbb-df61-432a-99fe-ca2bedd09135",
   "metadata": {},
   "source": [
    "Se pueden imprimir valores combinados con +, pero hay que transformar los datos"
   ]
  },
  {
   "cell_type": "code",
   "execution_count": 4,
   "id": "30d8dd4c-3a58-48bc-89bc-97f992428711",
   "metadata": {},
   "outputs": [
    {
     "name": "stdout",
     "output_type": "stream",
     "text": [
      "El valor de la variable x es 7\n"
     ]
    }
   ],
   "source": [
    "print(\"El valor de la variable x es \"+str(x))"
   ]
  },
  {
   "cell_type": "markdown",
   "id": "3e009779-799e-44a6-8241-81dff80f5a4a",
   "metadata": {},
   "source": [
    "Para pedir datos se utiliza la función input"
   ]
  },
  {
   "cell_type": "code",
   "execution_count": 6,
   "id": "abc765c4-43ec-4029-9923-db75dc8e8171",
   "metadata": {},
   "outputs": [
    {
     "name": "stdin",
     "output_type": "stream",
     "text": [
      "Introduce aquí tu nombre:  asdf\n"
     ]
    },
    {
     "data": {
      "text/plain": [
       "'asdf'"
      ]
     },
     "execution_count": 6,
     "metadata": {},
     "output_type": "execute_result"
    }
   ],
   "source": [
    "texto = input(\"Introduce aquí tu nombre: \")\n",
    "texto"
   ]
  },
  {
   "cell_type": "code",
   "execution_count": 9,
   "id": "bfd1da52-a995-4c6c-a724-42d24b6a4e17",
   "metadata": {},
   "outputs": [
    {
     "name": "stdin",
     "output_type": "stream",
     "text": [
      "Introduce un número:  asdf asdf\n"
     ]
    },
    {
     "ename": "ValueError",
     "evalue": "invalid literal for int() with base 10: 'asdf asdf'",
     "output_type": "error",
     "traceback": [
      "\u001b[0;31m---------------------------------------------------------------------------\u001b[0m",
      "\u001b[0;31mValueError\u001b[0m                                Traceback (most recent call last)",
      "Cell \u001b[0;32mIn[9], line 1\u001b[0m\n\u001b[0;32m----> 1\u001b[0m num \u001b[38;5;241m=\u001b[39m \u001b[38;5;28mint\u001b[39m(\u001b[38;5;28minput\u001b[39m(\u001b[38;5;124m\"\u001b[39m\u001b[38;5;124mIntroduce un número: \u001b[39m\u001b[38;5;124m\"\u001b[39m))\n\u001b[1;32m      2\u001b[0m num\n",
      "\u001b[0;31mValueError\u001b[0m: invalid literal for int() with base 10: 'asdf asdf'"
     ]
    }
   ],
   "source": [
    "num = int(input(\"Introduce un número: \"))\n",
    "num"
   ]
  },
  {
   "cell_type": "markdown",
   "id": "29be070d-508b-4572-a4d6-90faf61eda6f",
   "metadata": {},
   "source": [
    "## Operadores de decisión\n",
    "Los operadores de decisión sirven para decidir qué líneas de código deben ejecutarse en función de condiciones. El tabulador especifica el código condicionado a la instrucción.\n",
    "si 'condición booleana':\n",
    "    código1\n",
    "    código2"
   ]
  },
  {
   "cell_type": "code",
   "execution_count": null,
   "id": "02e56664-dcce-4ec3-b9b0-531df7b78bb0",
   "metadata": {},
   "outputs": [],
   "source": []
  },
  {
   "cell_type": "markdown",
   "id": "ef2dd76e-c785-4322-b5da-c34961773e85",
   "metadata": {},
   "source": [
    "## Funciones matamáticas\n",
    "- Es mejor usar math.exp() que usar la constante e.\n",
    "- math.pow para exponentes\n",
    "- math.expm1 da e - 1. da más precisión que operacones con math.exp()-1\n",
    "- math.log(n,base), log2, log10\n",
    "- math.sqrt\n",
    "- math.tan cos sin etc admiten el parámetro en radianes.\n",
    "- math.hypot devuelve la hipotenusa, o norma de un vector R2\n"
   ]
  },
  {
   "cell_type": "markdown",
   "id": "a206df1e-6773-4b94-9e1d-7e3e7f0232c3",
   "metadata": {},
   "source": [
    "## Funciones en Python\n",
    "Un método es una función que forma parte de una clase y es accedido dentro de la clase.\n",
    "Las librerías son clases. \n",
    "Todos los métodos son funciones, pero no todos los métodos son funciones. \n",
    " "
   ]
  },
  {
   "cell_type": "code",
   "execution_count": 19,
   "id": "d126ac6f-0023-4329-94d5-a0694b26315b",
   "metadata": {},
   "outputs": [],
   "source": [
    "def suma(x,y):\n",
    "    \"\"\"\n",
    "    Descripción\n",
    "    \"\"\"\n",
    "    print(\"Soy una función\")\n",
    "    return x+y\n",
    "\n",
    "class Operaciones(object):\n",
    "    def suma(self, x, y):\n",
    "        print(\"Soy un método\")\n",
    "        self.resultado = x + y\n",
    "        return self.resultado"
   ]
  },
  {
   "cell_type": "code",
   "execution_count": 20,
   "id": "b065566f-0d1f-465c-ae4f-8fe4dcff5147",
   "metadata": {},
   "outputs": [
    {
     "name": "stdout",
     "output_type": "stream",
     "text": [
      "Soy una función\n"
     ]
    },
    {
     "data": {
      "text/plain": [
       "5"
      ]
     },
     "execution_count": 20,
     "metadata": {},
     "output_type": "execute_result"
    }
   ],
   "source": [
    "suma(2,3)"
   ]
  },
  {
   "cell_type": "code",
   "execution_count": 21,
   "id": "342dfbf2-2ccf-45b2-8415-ae26cc92758e",
   "metadata": {},
   "outputs": [
    {
     "name": "stdout",
     "output_type": "stream",
     "text": [
      "Soy un método\n"
     ]
    },
    {
     "data": {
      "text/plain": [
       "5"
      ]
     },
     "execution_count": 21,
     "metadata": {},
     "output_type": "execute_result"
    }
   ],
   "source": [
    "operInstance = Operaciones()\n",
    "operInstance.suma(2,3)"
   ]
  },
  {
   "cell_type": "markdown",
   "id": "3a3357be-3796-4d21-9e8f-1154571a4b1f",
   "metadata": {},
   "source": [
    "Los parámetros son variables de la función. Los métodos de las clases tienen siempre el parámetro self, pero referencia al elemento de la clase y se pasa de forma implícita al invocar al método. \n",
    "\n",
    "Si la función no necesita argumentos, no se utiliza el tipo void. "
   ]
  },
  {
   "cell_type": "code",
   "execution_count": 26,
   "id": "d74d2c7f-dbb5-4816-9e11-d09ddb63d60b",
   "metadata": {},
   "outputs": [],
   "source": [
    "def saludar():\n",
    "    name = str(input(\"Komo te llamah?: \"))\n",
    "    if name:\n",
    "        print(\"Ola \"+name+\" ke ase?\")\n",
    "    else:\n",
    "        print(\"Ola ke ase senyor amónino?\")"
   ]
  },
  {
   "cell_type": "code",
   "execution_count": 28,
   "id": "76600a31-ff4a-42a2-be55-b2d78d7845f8",
   "metadata": {},
   "outputs": [
    {
     "name": "stdin",
     "output_type": "stream",
     "text": [
      "Komo te llamah?:  \n"
     ]
    },
    {
     "name": "stdout",
     "output_type": "stream",
     "text": [
      "Ola ke ase senyor amónino?\n"
     ]
    }
   ],
   "source": [
    "saludar()"
   ]
  },
  {
   "cell_type": "markdown",
   "id": "b91b0371-0913-4c14-8ee0-92b7b37cf3c9",
   "metadata": {},
   "source": [
    "Para devolver más d eun valor, se usa una tupla de valores encerrada en paréntersis:\n",
    "- return (suma, resta,...)\n",
    "\n",
    "Para que la función tega métodos por defecto, se definen como\n",
    "- def funcion(x=2,y=3)\n",
    "\n"
   ]
  },
  {
   "cell_type": "markdown",
   "id": "4be1c1a4-3aa1-427e-bc35-87bfc9ef39dd",
   "metadata": {},
   "source": [
    "## Funciones con número variable de argumentos.\n",
    "Se utiliza la sintaxis asterisco delante de un argumento.\n"
   ]
  },
  {
   "cell_type": "code",
   "execution_count": 33,
   "id": "620e03d6-541d-4e72-ace1-9ce707ca6b62",
   "metadata": {},
   "outputs": [],
   "source": [
    "def suma(*args):\n",
    "    total = 0\n",
    "    for d in args:\n",
    "        total += d\n",
    "    return total\n"
   ]
  },
  {
   "cell_type": "code",
   "execution_count": 34,
   "id": "c3c28316-c171-4e9b-b26d-dae7b526bed0",
   "metadata": {},
   "outputs": [
    {
     "data": {
      "text/plain": [
       "3"
      ]
     },
     "execution_count": 34,
     "metadata": {},
     "output_type": "execute_result"
    }
   ],
   "source": [
    "suma(1,2)"
   ]
  },
  {
   "cell_type": "code",
   "execution_count": 35,
   "id": "5a17e2d9-2b28-4915-89e7-70f44f372257",
   "metadata": {},
   "outputs": [
    {
     "data": {
      "text/plain": [
       "35"
      ]
     },
     "execution_count": 35,
     "metadata": {},
     "output_type": "execute_result"
    }
   ],
   "source": [
    "suma(2,3,4,5,6,7,8)"
   ]
  },
  {
   "cell_type": "markdown",
   "id": "ff9d44fc-6556-4d25-bf6a-b863e3e28209",
   "metadata": {},
   "source": [
    "## Funcinoes amóminas\n",
    "Una sintaxis mucho más reducida.\n",
    "Empiezan con la palabra lambda. Sigue el argumento y tras los dos puntos la evaluación.\n",
    "\n",
    "\n"
   ]
  },
  {
   "cell_type": "code",
   "execution_count": 36,
   "id": "6840c983-52be-478f-84ff-e4d2ea673efc",
   "metadata": {},
   "outputs": [
    {
     "data": {
      "text/plain": [
       "8"
      ]
     },
     "execution_count": 36,
     "metadata": {},
     "output_type": "execute_result"
    }
   ],
   "source": [
    "doble = lambda x:x*2\n",
    "doble(4)"
   ]
  },
  {
   "cell_type": "markdown",
   "id": "8d681d58-2841-4831-971f-6857144dbd43",
   "metadata": {},
   "source": [
    "Están pensadas como filtros.\n"
   ]
  },
  {
   "cell_type": "code",
   "execution_count": 46,
   "id": "97514da7-eb93-428b-a3fa-85f44ed84757",
   "metadata": {},
   "outputs": [
    {
     "data": {
      "text/plain": [
       "[5, 6, 7, 8, 9, 10]"
      ]
     },
     "execution_count": 46,
     "metadata": {},
     "output_type": "execute_result"
    }
   ],
   "source": [
    "from functools import reduce\n",
    "data = [1,2,3,4,5,6,7,8,9,10]\n",
    "filtered_data = list(filter(lambda x:(x*2>8),data))\n",
    "filtered_data"
   ]
  },
  {
   "cell_type": "code",
   "execution_count": 48,
   "id": "3772e6cf-d430-4ac3-91da-053795e99246",
   "metadata": {},
   "outputs": [
    {
     "data": {
      "text/plain": [
       "[2, 4, 6, 8, 10, 12, 14, 16, 18, 20]"
      ]
     },
     "execution_count": 48,
     "metadata": {},
     "output_type": "execute_result"
    }
   ],
   "source": [
    "mapped_data = list(map(lambda x: x*2, data))\n",
    "mapped_data"
   ]
  },
  {
   "cell_type": "code",
   "execution_count": 49,
   "id": "28ede2e1-4b68-41d3-b6e0-68463663ab49",
   "metadata": {},
   "outputs": [
    {
     "data": {
      "text/plain": [
       "55"
      ]
     },
     "execution_count": 49,
     "metadata": {},
     "output_type": "execute_result"
    }
   ],
   "source": [
    "reduced_data = reduce(lambda x, y: x+y, data)\n",
    "reduced_data"
   ]
  },
  {
   "cell_type": "code",
   "execution_count": null,
   "id": "aea440b4-21d0-4cce-b19a-2f083c7424e9",
   "metadata": {},
   "outputs": [],
   "source": []
  }
 ],
 "metadata": {
  "kernelspec": {
   "display_name": "Python 3 (ipykernel)",
   "language": "python",
   "name": "python3"
  },
  "language_info": {
   "codemirror_mode": {
    "name": "ipython",
    "version": 3
   },
   "file_extension": ".py",
   "mimetype": "text/x-python",
   "name": "python",
   "nbconvert_exporter": "python",
   "pygments_lexer": "ipython3",
   "version": "3.12.7"
  }
 },
 "nbformat": 4,
 "nbformat_minor": 5
}
